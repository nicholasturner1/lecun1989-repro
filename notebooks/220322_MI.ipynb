{
 "cells": [
  {
   "cell_type": "markdown",
   "id": "4772fa73-b37d-4504-a3b9-59422e136b55",
   "metadata": {},
   "source": [
    "# Quickly visualizing MI between feature map activations of the trained network"
   ]
  },
  {
   "cell_type": "code",
   "execution_count": 1,
   "id": "87bc4da9-0702-4d05-83cf-3193a32177e9",
   "metadata": {},
   "outputs": [],
   "source": [
    "import h5py\n",
    "import numpy as np\n",
    "import matplotlib.pyplot as plt\n",
    "from sklearn import feature_selection\n",
    "\n",
    "from lecun1989repro import utils"
   ]
  },
  {
   "cell_type": "markdown",
   "id": "dc6f51f7-0526-4039-96e6-1ae70cccdadb",
   "metadata": {
    "tags": []
   },
   "source": [
    "# \"Modern\" replication"
   ]
  },
  {
   "cell_type": "code",
   "execution_count": 2,
   "id": "87a61429-fa3f-4ca2-a031-1fccc82b204c",
   "metadata": {},
   "outputs": [],
   "source": [
    "acts = utils.read_h5_dict(\"../out/modern/activations/activations_test.h5\")"
   ]
  },
  {
   "cell_type": "code",
   "execution_count": 3,
   "id": "ad2aa26e-5271-47a7-a0b5-4f75dfbb213d",
   "metadata": {},
   "outputs": [
    {
     "data": {
      "text/plain": [
       "(2007, 12, 8, 8)"
      ]
     },
     "execution_count": 3,
     "metadata": {},
     "output_type": "execute_result"
    }
   ],
   "source": [
    "acts[\"h1\"].shape"
   ]
  },
  {
   "cell_type": "code",
   "execution_count": 4,
   "id": "3a14fef9-bf51-4388-9da3-97647c074756",
   "metadata": {},
   "outputs": [],
   "source": [
    "def mutual_info(acts, i, j):\n",
    "    feature_map_i = acts[:, i, :, :].reshape(-1, 1)\n",
    "    feature_map_j = acts[:, j, :, :].ravel()\n",
    "    \n",
    "    return feature_selection.mutual_info_regression(feature_map_i, feature_map_j)\n",
    "\n",
    "\n",
    "def feature_map_MI(acts):\n",
    "    num_maps = acts.shape[1]\n",
    "    \n",
    "    matrix = np.zeros((num_maps, num_maps), dtype=np.float32)\n",
    "    for i in range(num_maps):\n",
    "        for j in range(i, acts.shape[1]):\n",
    "            matrix[i, j] = mutual_info(acts, i, j)[0]\n",
    "    \n",
    "    # fill in the redundant entries\n",
    "    for i in range(num_maps):\n",
    "        for j in range(num_maps):\n",
    "            if i > j:\n",
    "                matrix[i, j] = matrix[j, i]\n",
    "    \n",
    "    return matrix"
   ]
  },
  {
   "cell_type": "code",
   "execution_count": 5,
   "id": "18bd54a4-9f14-4108-9fd0-c23364ceef12",
   "metadata": {},
   "outputs": [
    {
     "name": "stdout",
     "output_type": "stream",
     "text": [
      "CPU times: user 1min 12s, sys: 1.23 s, total: 1min 13s\n",
      "Wall time: 1min 14s\n"
     ]
    }
   ],
   "source": [
    "%time MI_h1 = feature_map_MI(acts[\"h1\"])"
   ]
  },
  {
   "cell_type": "code",
   "execution_count": 6,
   "id": "d0f5d3f3-7d81-4430-bace-d3c9ee671e79",
   "metadata": {},
   "outputs": [
    {
     "name": "stdout",
     "output_type": "stream",
     "text": [
      "CPU times: user 9.23 s, sys: 36.6 ms, total: 9.27 s\n",
      "Wall time: 9.29 s\n"
     ]
    }
   ],
   "source": [
    "%time MI_h2 = feature_map_MI(acts[\"h2\"])"
   ]
  },
  {
   "cell_type": "code",
   "execution_count": 7,
   "id": "c79b2e23-b2e7-4422-b7b2-7d04ec7ca005",
   "metadata": {},
   "outputs": [
    {
     "data": {
      "image/png": "[encoded data removed]",
      "text/plain": [
       "<Figure size 504x432 with 1 Axes>"
      ]
     },
     "metadata": {
      "needs_background": "light"
     },
     "output_type": "display_data"
    }
   ],
   "source": [
    "plt.figure(figsize=(7, 6))\n",
    "\n",
    "plt.imshow(MI_h1)\n",
    "plt.title(\"Unnormalized MI heatmap\")\n",
    "plt.xlabel(\"Feature map\")\n",
    "plt.ylabel(\"Feature map\")\n",
    "\n",
    "plt.show()"
   ]
  },
  {
   "cell_type": "code",
   "execution_count": 8,
   "id": "e0dc79b6-c7a8-4e30-b669-2739fa83f64f",
   "metadata": {},
   "outputs": [
    {
     "data": {
      "image/png": "[encoded data removed]",
      "text/plain": [
       "<Figure size 504x432 with 1 Axes>"
      ]
     },
     "metadata": {
      "needs_background": "light"
     },
     "output_type": "display_data"
    }
   ],
   "source": [
    "plt.figure(figsize=(7, 6))\n",
    "\n",
    "plt.imshow(MI_h2)\n",
    "plt.title(\"Unnormalized MI heatmap\")\n",
    "plt.xlabel(\"Feature map\")\n",
    "plt.ylabel(\"Feature map\")\n",
    "\n",
    "plt.show()"
   ]
  },
  {
   "cell_type": "markdown",
   "id": "4d2aa724-62de-4cdb-b5b4-4ee834c9ec42",
   "metadata": {
    "tags": []
   },
   "source": [
    "# \"Base\" model"
   ]
  },
  {
   "cell_type": "code",
   "execution_count": 9,
   "id": "33147c36-5cb3-4704-ab6a-7370f8b7c880",
   "metadata": {},
   "outputs": [],
   "source": [
    "acts = utils.read_h5_dict(\"../out/base/activations/activations_test.h5\")"
   ]
  },
  {
   "cell_type": "code",
   "execution_count": 10,
   "id": "0727a06f-fa17-486a-a58d-18061a2e635d",
   "metadata": {},
   "outputs": [
    {
     "name": "stdout",
     "output_type": "stream",
     "text": [
      "CPU times: user 1min 9s, sys: 1.04 s, total: 1min 10s\n",
      "Wall time: 1min 10s\n"
     ]
    }
   ],
   "source": [
    "%time MI_h1 = feature_map_MI(acts[\"h1\"])"
   ]
  },
  {
   "cell_type": "code",
   "execution_count": 11,
   "id": "7da7aaf7-9a5e-4b2d-9d22-07532cb11b08",
   "metadata": {},
   "outputs": [
    {
     "name": "stdout",
     "output_type": "stream",
     "text": [
      "CPU times: user 8.75 s, sys: 19.8 ms, total: 8.77 s\n",
      "Wall time: 8.79 s\n"
     ]
    }
   ],
   "source": [
    "%time MI_h2 = feature_map_MI(acts[\"h2\"])"
   ]
  },
  {
   "cell_type": "code",
   "execution_count": 12,
   "id": "d01d702d-3968-42b8-867a-59a8a2e76401",
   "metadata": {},
   "outputs": [
    {
     "data": {
      "image/png": "[encoded data removed]",
      "text/plain": [
       "<Figure size 504x432 with 1 Axes>"
      ]
     },
     "metadata": {
      "needs_background": "light"
     },
     "output_type": "display_data"
    }
   ],
   "source": [
    "plt.figure(figsize=(7, 6))\n",
    "\n",
    "plt.imshow(MI_h1)\n",
    "plt.title(\"Unnormalized MI heatmap\")\n",
    "plt.xlabel(\"Feature map\")\n",
    "plt.ylabel(\"Feature map\")\n",
    "\n",
    "plt.show()"
   ]
  },
  {
   "cell_type": "code",
   "execution_count": 13,
   "id": "c6decbf6-f191-4cf6-af66-c0e8c19652fb",
   "metadata": {},
   "outputs": [
    {
     "data": {
      "image/png": "[encoded data removed]",
      "text/plain": [
       "<Figure size 504x432 with 1 Axes>"
      ]
     },
     "metadata": {
      "needs_background": "light"
     },
     "output_type": "display_data"
    }
   ],
   "source": [
    "plt.figure(figsize=(7, 6))\n",
    "\n",
    "plt.imshow(MI_h2)\n",
    "plt.title(\"Unnormalized MI heatmap\")\n",
    "plt.xlabel(\"Feature map\")\n",
    "plt.ylabel(\"Feature map\")\n",
    "\n",
    "plt.show()"
   ]
  }
 ],
 "metadata": {
  "kernelspec": {
   "display_name": "Python 3 (ipykernel)",
   "language": "python",
   "name": "python3"
  },
  "language_info": {
   "codemirror_mode": {
    "name": "ipython",
    "version": 3
   },
   "file_extension": ".py",
   "mimetype": "text/x-python",
   "name": "python",
   "nbconvert_exporter": "python",
   "pygments_lexer": "ipython3",
   "version": "3.9.7"
  }
 },
 "nbformat": 4,
 "nbformat_minor": 5
}
